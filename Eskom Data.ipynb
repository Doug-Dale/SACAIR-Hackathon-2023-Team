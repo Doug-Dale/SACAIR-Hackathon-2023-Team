{
  "cells": [
    {
      "cell_type": "markdown",
      "source": [
        "Run the below code first. Wait for this to finish running. Once it is done, you will need to head over to GitHub, sign in, or create an account. Then you will need to create a new repository, called **```SACAIR-Hackathon-2023-<Your_Team_Name>```** .\n",
        "\n",
        "You will need to generate a Personal Access Token. Go to the following YouTube video for instructions on how to do this.\n",
        "https://www.youtube.com/watch?v=9lGcbQR4k4Y\n",
        "\n",
        "Once this is done, go to the next code block and follow the instructions"
      ],
      "metadata": {
        "id": "W3wimA9S3IXy"
      }
    },
    {
      "cell_type": "code",
      "source": [
        "# %cd ..\n",
        "# %rm -rf SACAIR-Hackathon-2023"
      ],
      "metadata": {
        "colab": {
          "base_uri": "https://localhost:8080/"
        },
        "id": "QTqNtEm-7haW",
        "outputId": "8cacdb42-ca36-49b9-c602-63f3c570019f"
      },
      "execution_count": 7,
      "outputs": [
        {
          "output_type": "stream",
          "name": "stdout",
          "text": [
            "/content\n"
          ]
        }
      ]
    },
    {
      "cell_type": "code",
      "execution_count": 1,
      "metadata": {
        "colab": {
          "base_uri": "https://localhost:8080/"
        },
        "id": "tIb9nPwov_0v",
        "outputId": "2c899aed-55e2-4f4d-f8a6-b0a42922ee15"
      },
      "outputs": [
        {
          "output_type": "stream",
          "name": "stdout",
          "text": [
            "Requirement already satisfied: python-dotenv in /usr/local/lib/python3.10/dist-packages (1.0.0)\n",
            "Cloning into 'SACAIR-Hackathon-2023'...\n",
            "remote: Enumerating objects: 37, done.\u001b[K\n",
            "remote: Counting objects: 100% (12/12), done.\u001b[K\n",
            "remote: Compressing objects: 100% (10/10), done.\u001b[K\n",
            "remote: Total 37 (delta 1), reused 1 (delta 1), pack-reused 25\u001b[K\n",
            "Receiving objects: 100% (37/37), 34.63 MiB | 20.89 MiB/s, done.\n",
            "Resolving deltas: 100% (5/5), done.\n",
            "/content/SACAIR-Hackathon-2023\n"
          ]
        }
      ],
      "source": [
        "!pip install python-dotenv\n",
        "!git clone https://github.com/jules-deponte-entelect/SACAIR-Hackathon-2023\n",
        "%cd SACAIR-Hackathon-2023\n",
        "%rm -rf .git\n"
      ]
    },
    {
      "cell_type": "markdown",
      "source": [
        "In a text editor on your local machine, create a file called ```.env```. In there create three environment variables called: **```token```**, **```username```**, **```team_name```**. Your text file should look like this:\n",
        "\n",
        "```\n",
        "token='<Personal_Access_Token>'\n",
        "username='<GitHub_Username>'\n",
        "team_name='<Team_Name?'\n",
        "\n",
        "```\n",
        "\n",
        "Upload this file to the ```SACAIR-Hackathon-2023``` folder. These are the credentials that you will use to connect to your GitHub repository.\n",
        "\n",
        "You can follow this video for detailed instructions.\n",
        "https://www.youtube.com/watch?v=t_pFWwLtza0"
      ],
      "metadata": {
        "id": "PhrcscFH7wv0"
      }
    },
    {
      "cell_type": "code",
      "source": [
        "import os\n",
        "from dotenv import load_dotenv, find_dotenv\n",
        "\n",
        "_ = load_dotenv(find_dotenv())\n",
        "\n",
        "token = os.environ['token']\n",
        "username = os.environ['username']\n",
        "team_name = os.environ['team_name']\n"
      ],
      "metadata": {
        "id": "BIpO56uc1b5T"
      },
      "execution_count": 2,
      "outputs": []
    },
    {
      "cell_type": "code",
      "source": [
        "\n",
        "!git init\n",
        "!git add .\n",
        "!git commit -m \"first commit\"\n",
        "!git branch -M main\n",
        "!git remote add origin https://github.com/{username}/SACAIR-Hackathon-2023-{team_name}.git\n",
        "!git remote set-url origin https://{token}@github.com/{username}/SACAIR-Hackathon-2023-{team_name}.git\n",
        "# !git pull remote origin\n",
        "!git push --set-upstream origin main"
      ],
      "metadata": {
        "colab": {
          "base_uri": "https://localhost:8080/"
        },
        "id": "UX_i6NAy1dxY",
        "outputId": "a241c54d-388b-4dcf-f93e-99c71baffa33"
      },
      "execution_count": 3,
      "outputs": [
        {
          "output_type": "stream",
          "name": "stdout",
          "text": [
            "\u001b[33mhint: Using 'master' as the name for the initial branch. This default branch name\u001b[m\n",
            "\u001b[33mhint: is subject to change. To configure the initial branch name to use in all\u001b[m\n",
            "\u001b[33mhint: of your new repositories, which will suppress this warning, call:\u001b[m\n",
            "\u001b[33mhint: \u001b[m\n",
            "\u001b[33mhint: \tgit config --global init.defaultBranch <name>\u001b[m\n",
            "\u001b[33mhint: \u001b[m\n",
            "\u001b[33mhint: Names commonly chosen instead of 'master' are 'main', 'trunk' and\u001b[m\n",
            "\u001b[33mhint: 'development'. The just-created branch can be renamed via this command:\u001b[m\n",
            "\u001b[33mhint: \u001b[m\n",
            "\u001b[33mhint: \tgit branch -m <name>\u001b[m\n",
            "Initialized empty Git repository in /content/SACAIR-Hackathon-2023/.git/\n",
            "[master (root-commit) 23ffe29] first commit\n",
            " 10 files changed, 65793 insertions(+)\n",
            " create mode 100644 .gitignore\n",
            " create mode 100644 Data/Data Dictionary.xlsx\n",
            " create mode 100644 Data/Date.csv\n",
            " create mode 100644 Data/EmisionsData.csv\n",
            " create mode 100644 Data/EskomData.csv\n",
            " create mode 100644 Data/WeatherData.csv\n",
            " create mode 100644 Eskom Data.ipynb\n",
            " create mode 100644 Eskom Generators Map.pdf\n",
            " create mode 100644 SACAIR Getting Started.docx\n",
            " create mode 100644 SACAIR Hackathon 2023-12-04.pptx\n",
            "fatal: 'remote' does not appear to be a git repository\n",
            "fatal: Could not read from remote repository.\n",
            "\n",
            "Please make sure you have the correct access rights\n",
            "and the repository exists.\n",
            "Enumerating objects: 13, done.\n",
            "Counting objects: 100% (13/13), done.\n",
            "Delta compression using up to 2 threads\n",
            "Compressing objects: 100% (12/12), done.\n",
            "Writing objects: 100% (13/13), 26.48 MiB | 6.20 MiB/s, done.\n",
            "Total 13 (delta 0), reused 0 (delta 0), pack-reused 0\n",
            "To https://github.com/Doug-Dale/SACAIR-Hackathon-2023-Team2.git\n",
            " * [new branch]      main -> main\n",
            "Branch 'main' set up to track remote branch 'main' from 'origin'.\n"
          ]
        }
      ]
    },
    {
      "cell_type": "code",
      "source": [],
      "metadata": {
        "id": "4x2XyVvoCz7I"
      },
      "execution_count": null,
      "outputs": []
    },
    {
      "cell_type": "code",
      "source": [
        "!git add .\n",
        "!git commit -m \"added readme\"\n",
        "!git push --set-upstream origin main"
      ],
      "metadata": {
        "colab": {
          "base_uri": "https://localhost:8080/"
        },
        "id": "4pQjMHFpxLGy",
        "outputId": "e157d38a-76db-4732-d150-658b2264c581"
      },
      "execution_count": 6,
      "outputs": [
        {
          "output_type": "stream",
          "name": "stdout",
          "text": [
            "[main 4a84142] added readme\n",
            " 1 file changed, 1 insertion(+)\n",
            " create mode 100644 Readme.md\n",
            "Enumerating objects: 4, done.\n",
            "Counting objects: 100% (4/4), done.\n",
            "Delta compression using up to 2 threads\n",
            "Compressing objects: 100% (2/2), done.\n",
            "Writing objects: 100% (3/3), 268 bytes | 268.00 KiB/s, done.\n",
            "Total 3 (delta 1), reused 0 (delta 0), pack-reused 0\n",
            "remote: Resolving deltas: 100% (1/1), completed with 1 local object.\u001b[K\n",
            "To https://github.com/Doug-Dale/SACAIR-Hackathon-2023-Team2.git\n",
            "   23ffe29..4a84142  main -> main\n",
            "Branch 'main' set up to track remote branch 'main' from 'origin'.\n"
          ]
        }
      ]
    }
  ],
  "metadata": {
    "kernelspec": {
      "display_name": "Python 3",
      "language": "python",
      "name": "python3"
    },
    "language_info": {
      "codemirror_mode": {
        "name": "ipython",
        "version": 3
      },
      "file_extension": ".py",
      "mimetype": "text/x-python",
      "name": "python",
      "nbconvert_exporter": "python",
      "pygments_lexer": "ipython3",
      "version": "3.10.10"
    },
    "colab": {
      "provenance": []
    }
  },
  "nbformat": 4,
  "nbformat_minor": 0
}