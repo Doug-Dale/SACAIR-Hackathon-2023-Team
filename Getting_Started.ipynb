{
  "cells": [
    {
      "cell_type": "markdown",
      "metadata": {
        "id": "view-in-github",
        "colab_type": "text"
      },
      "source": [
        "<a href=\"https://colab.research.google.com/github/Doug-Dale/SACAIR-Hackathon-2023-Team/blob/main/Getting_Started.ipynb\" target=\"_parent\"><img src=\"https://colab.research.google.com/assets/colab-badge.svg\" alt=\"Open In Colab\"/></a>"
      ]
    },
    {
      "cell_type": "markdown",
      "source": [
        "Run the below code first. Wait for this to finish running. Once it is done, you will need to head over to GitHub, sign in, or create an account. Then you will need to create a new repository, called **```SACAIR-Hackathon-2023-<Your_Team_Name>```** .\n",
        "\n",
        "You will need to generate a Personal Access Token. Go to the following YouTube video for instructions on how to do this.\n",
        "https://www.youtube.com/watch?v=9lGcbQR4k4Y\n",
        "\n",
        "Once this is done, go to the next code block and follow the instructions"
      ],
      "metadata": {
        "id": "W3wimA9S3IXy"
      }
    },
    {
      "cell_type": "code",
      "source": [
        "# %cd ..\n",
        "# %rm -rf SACAIR-Hackathon-2023"
      ],
      "metadata": {
        "id": "QTqNtEm-7haW",
        "outputId": "7d11c0bc-e349-45d7-fdbe-92ba1f293138",
        "colab": {
          "base_uri": "https://localhost:8080/"
        }
      },
      "execution_count": 6,
      "outputs": [
        {
          "output_type": "stream",
          "name": "stdout",
          "text": [
            "/content\n"
          ]
        }
      ]
    },
    {
      "cell_type": "code",
      "execution_count": 1,
      "metadata": {
        "id": "tIb9nPwov_0v",
        "outputId": "bf963e11-3af3-4d8a-e1fe-6ff1bd330667",
        "colab": {
          "base_uri": "https://localhost:8080/"
        }
      },
      "outputs": [
        {
          "output_type": "stream",
          "name": "stdout",
          "text": [
            "Requirement already satisfied: python-dotenv in /usr/local/lib/python3.10/dist-packages (1.0.0)\n",
            "Cloning into 'SACAIR-Hackathon-2023'...\n",
            "remote: Enumerating objects: 39, done.\u001b[K\n",
            "remote: Counting objects: 100% (14/14), done.\u001b[K\n",
            "remote: Compressing objects: 100% (12/12), done.\u001b[K\n",
            "remote: Total 39 (delta 2), reused 1 (delta 1), pack-reused 25\u001b[K\n",
            "Receiving objects: 100% (39/39), 34.63 MiB | 22.80 MiB/s, done.\n",
            "Resolving deltas: 100% (6/6), done.\n",
            "/content/SACAIR-Hackathon-2023\n"
          ]
        }
      ],
      "source": [
        "!pip install python-dotenv\n",
        "!git clone https://github.com/jules-deponte-entelect/SACAIR-Hackathon-2023\n",
        "%cd SACAIR-Hackathon-2023\n",
        "%rm -rf .git\n"
      ]
    },
    {
      "cell_type": "markdown",
      "source": [
        "In a text editor on your local machine, create a file called ```.env```. In there create three environment variables called: **```token```**, **```username```**, **```team_name```**. Your text file should look like this:\n",
        "\n",
        "```\n",
        "token='<Personal_Access_Token>'\n",
        "username='<GitHub_Username>'\n",
        "team_name='<Team_Name?'\n",
        "\n",
        "```\n",
        "\n",
        "Upload this file to the ```SACAIR-Hackathon-2023``` folder. These are the credentials that you will use to connect to your GitHub repository.\n",
        "\n",
        "You can follow this video for detailed instructions.\n",
        "https://www.youtube.com/watch?v=t_pFWwLtza0"
      ],
      "metadata": {
        "id": "PhrcscFH7wv0"
      }
    },
    {
      "cell_type": "code",
      "source": [
        "import os\n",
        "from dotenv import load_dotenv, find_dotenv\n",
        "\n",
        "_ = load_dotenv(find_dotenv())\n",
        "\n",
        "token = os.environ['token']\n",
        "username = os.environ['username']\n",
        "team_name = os.environ['team_name']\n"
      ],
      "metadata": {
        "id": "BIpO56uc1b5T"
      },
      "execution_count": 3,
      "outputs": []
    },
    {
      "cell_type": "code",
      "source": [
        "\n",
        "!git init\n",
        "!git add .\n",
        "!git commit -m \"first commit\"\n",
        "!git branch -M main\n",
        "!git remote add origin https://github.com/{username}/SACAIR-Hackathon-2023-{team_name}.git\n",
        "!git remote set-url origin https://{token}@github.com/{username}/SACAIR-Hackathon-2023-{team_name}.git\n",
        "!git pull remote origin\n",
        "!git push --set-upstream origin main"
      ],
      "metadata": {
        "id": "UX_i6NAy1dxY",
        "outputId": "bb4072e9-e176-4554-a2fc-3feb2acf63f2",
        "colab": {
          "base_uri": "https://localhost:8080/"
        }
      },
      "execution_count": 5,
      "outputs": [
        {
          "output_type": "stream",
          "name": "stdout",
          "text": [
            "Reinitialized existing Git repository in /content/SACAIR-Hackathon-2023/.git/\n",
            "Author identity unknown\n",
            "\n",
            "*** Please tell me who you are.\n",
            "\n",
            "Run\n",
            "\n",
            "  git config --global user.email \"you@example.com\"\n",
            "  git config --global user.name \"Your Name\"\n",
            "\n",
            "to set your account's default identity.\n",
            "Omit --global to set the identity only in this repository.\n",
            "\n",
            "fatal: unable to auto-detect email address (got 'root@e1b96ff53ca6.(none)')\n",
            "error: remote origin already exists.\n",
            "fatal: 'remote' does not appear to be a git repository\n",
            "fatal: Could not read from remote repository.\n",
            "\n",
            "Please make sure you have the correct access rights\n",
            "and the repository exists.\n",
            "error: src refspec main does not match any\n",
            "\u001b[31merror: failed to push some refs to 'https://github.com/Doug-Dale/SACAIR-Hackathon-2023-Team2.git'\n",
            "\u001b[m"
          ]
        }
      ]
    },
    {
      "cell_type": "code",
      "source": [],
      "metadata": {
        "id": "4x2XyVvoCz7I"
      },
      "execution_count": null,
      "outputs": []
    },
    {
      "cell_type": "code",
      "source": [
        "!git add .\n",
        "!git commit -m \"added readme\"\n",
        "!git push --set-upstream origin main"
      ],
      "metadata": {
        "id": "4pQjMHFpxLGy"
      },
      "execution_count": null,
      "outputs": []
    }
  ],
  "metadata": {
    "kernelspec": {
      "display_name": "Python 3",
      "language": "python",
      "name": "python3"
    },
    "language_info": {
      "codemirror_mode": {
        "name": "ipython",
        "version": 3
      },
      "file_extension": ".py",
      "mimetype": "text/x-python",
      "name": "python",
      "nbconvert_exporter": "python",
      "pygments_lexer": "ipython3",
      "version": "3.10.10"
    },
    "colab": {
      "provenance": [],
      "include_colab_link": true
    }
  },
  "nbformat": 4,
  "nbformat_minor": 0
}